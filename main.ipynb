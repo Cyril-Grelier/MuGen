{
 "cells": [
  {
   "cell_type": "markdown",
   "metadata": {
    "toc": true
   },
   "source": [
    "<h1>Table of Contents<span class=\"tocSkip\"></span></h1>\n",
    "<div class=\"toc\"><ul class=\"toc-item\"><li><span><a href=\"#Etude-spécifique-des-parametres\" data-toc-modified-id=\"Etude-spécifique-des-parametres-1\"><span class=\"toc-item-num\">1&nbsp;&nbsp;</span>Etude spécifique des parametres</a></span></li></ul></div>"
   ]
  },
  {
   "cell_type": "code",
   "execution_count": 1,
   "metadata": {
    "ExecuteTime": {
     "end_time": "2019-10-23T15:30:50.010503Z",
     "start_time": "2019-10-23T15:30:49.463307Z"
    },
    "pycharm": {
     "is_executing": false
    }
   },
   "outputs": [],
   "source": [
    "from gen_algo.genetic_algorithm import Population\n",
    "from gen_algo.tools.plot import show_stats"
   ]
  },
  {
   "cell_type": "code",
   "execution_count": 2,
   "metadata": {
    "ExecuteTime": {
     "end_time": "2019-10-23T15:30:50.015509Z",
     "start_time": "2019-10-23T15:30:50.011712Z"
    },
    "pycharm": {
     "is_executing": false
    }
   },
   "outputs": [],
   "source": [
    "parameters = {\n",
    "    'configuration name': 'config1',\n",
    "    'individual': ['gen_algo.individuals.onemax', 'IndividualOneMax'],\n",
    "\n",
    "    'population size': 100,  # 100 200 500\n",
    "    'chromosome size': 50,  # 5 10 50 100\n",
    "\n",
    "    'nb turn max': 1000,\n",
    "    'stop after no change': 10000,  # int(config['nb turn max']*0.10),\n",
    "\n",
    "    'adaptative selection': [('select_random', 0.25),\n",
    "                             ('select_best', 0.25),\n",
    "                             ('select_tournament', 0.25),\n",
    "                             ('select_wheel', 0.25)],\n",
    "\n",
    "    # 'select_random' 'select_best' 'select_tournament' 'select_wheel' 'adaptative'\n",
    "    'selection': 'select_best',\n",
    "    'proportion selection': 0.02,  # 2 / config['population size']\n",
    "    'nb selected tournament': 20,  # int(config['population size']*0.4)\n",
    "\n",
    "    'proportion crossover': 1,\n",
    "    'type crossover': 'mono-point',  # 'mono-point' 'uniforme'\n",
    "\n",
    "    # ['n-flip', 1] ['n-flip', 3] ['n-flip', 5] ['bit-flip']\n",
    "    'mutation': ['bit-flip'],\n",
    "    'proportion mutation': 0.2,  # 0.1 0.2 0.5 0.8\n",
    "\n",
    "    'insertion': 'fitness',  # 'age' 'fitness'\n",
    "}"
   ]
  },
  {
   "cell_type": "code",
   "execution_count": 3,
   "metadata": {
    "ExecuteTime": {
     "end_time": "2019-10-23T15:30:50.026296Z",
     "start_time": "2019-10-23T15:30:50.016536Z"
    },
    "pycharm": {
     "is_executing": false
    }
   },
   "outputs": [],
   "source": [
    "population = Population(parameters)"
   ]
  },
  {
   "cell_type": "code",
   "execution_count": 4,
   "metadata": {
    "ExecuteTime": {
     "end_time": "2019-10-23T15:30:54.015173Z",
     "start_time": "2019-10-23T15:30:50.027530Z"
    },
    "pycharm": {
     "is_executing": false
    },
    "scrolled": true
   },
   "outputs": [
    {
     "name": "stdout",
     "output_type": "stream",
     "text": [
      "pygame 1.9.6\n",
      "Hello from the pygame community. https://www.pygame.org/contribute.html\n"
     ]
    },
    {
     "ename": "AttributeError",
     "evalue": "'int' object has no attribute 'keys'",
     "output_type": "error",
     "traceback": [
      "\u001b[0;31m---------------------------------------------------------------------------\u001b[0m",
      "\u001b[0;31mAttributeError\u001b[0m                            Traceback (most recent call last)",
      "\u001b[0;32m<ipython-input-4-dee314bdc985>\u001b[0m in \u001b[0;36m<module>\u001b[0;34m\u001b[0m\n\u001b[0;32m----> 1\u001b[0;31m \u001b[0mstats\u001b[0m \u001b[0;34m=\u001b[0m \u001b[0mpopulation\u001b[0m\u001b[0;34m.\u001b[0m\u001b[0mstart\u001b[0m\u001b[0;34m(\u001b[0m\u001b[0;34m)\u001b[0m\u001b[0;34m\u001b[0m\u001b[0;34m\u001b[0m\u001b[0m\n\u001b[0m",
      "\u001b[0;32m~/Documents/m2/7 projet/MuGen/MuGen/gen_algo/genetic_algorithm.py\u001b[0m in \u001b[0;36mstart\u001b[0;34m(self)\u001b[0m\n\u001b[1;32m     48\u001b[0m         \u001b[0;32mfrom\u001b[0m \u001b[0mgen_algo\u001b[0m\u001b[0;34m.\u001b[0m\u001b[0mtools\u001b[0m\u001b[0;34m.\u001b[0m\u001b[0mmidi_utils\u001b[0m \u001b[0;32mimport\u001b[0m \u001b[0mconvert_to_midi\u001b[0m\u001b[0;34m,\u001b[0m \u001b[0mplay_midi_file\u001b[0m\u001b[0;34m\u001b[0m\u001b[0;34m\u001b[0m\u001b[0m\n\u001b[1;32m     49\u001b[0m         \u001b[0;32mfor\u001b[0m \u001b[0mi\u001b[0m\u001b[0;34m,\u001b[0m \u001b[0mindiv\u001b[0m \u001b[0;32min\u001b[0m \u001b[0menumerate\u001b[0m\u001b[0;34m(\u001b[0m\u001b[0mself\u001b[0m\u001b[0;34m.\u001b[0m\u001b[0mindividuals\u001b[0m\u001b[0;34m)\u001b[0m\u001b[0;34m:\u001b[0m\u001b[0;34m\u001b[0m\u001b[0;34m\u001b[0m\u001b[0m\n\u001b[0;32m---> 50\u001b[0;31m             \u001b[0mconvert_to_midi\u001b[0m\u001b[0;34m(\u001b[0m\u001b[0mindiv\u001b[0m\u001b[0;34m[\u001b[0m\u001b[0;36m0\u001b[0m\u001b[0;34m]\u001b[0m\u001b[0;34m,\u001b[0m \u001b[0mstr\u001b[0m\u001b[0;34m(\u001b[0m\u001b[0mi\u001b[0m\u001b[0;34m)\u001b[0m \u001b[0;34m+\u001b[0m \u001b[0;34m\".mid\"\u001b[0m\u001b[0;34m)\u001b[0m\u001b[0;34m\u001b[0m\u001b[0;34m\u001b[0m\u001b[0m\n\u001b[0m\u001b[1;32m     51\u001b[0m             \u001b[0;31m# play_midi_file(str(i) + \".mid\")\u001b[0m\u001b[0;34m\u001b[0m\u001b[0;34m\u001b[0m\u001b[0;34m\u001b[0m\u001b[0m\n\u001b[1;32m     52\u001b[0m         \u001b[0;32mreturn\u001b[0m \u001b[0mself\u001b[0m\u001b[0;34m.\u001b[0m\u001b[0mtermination\u001b[0m\u001b[0;34m(\u001b[0m\u001b[0;34m)\u001b[0m\u001b[0;34m\u001b[0m\u001b[0;34m\u001b[0m\u001b[0m\n",
      "\u001b[0;32m~/Documents/m2/7 projet/MuGen/MuGen/gen_algo/tools/midi_utils.py\u001b[0m in \u001b[0;36mconvert_to_midi\u001b[0;34m(indiv, file)\u001b[0m\n\u001b[1;32m     20\u001b[0m \u001b[0;34m\u001b[0m\u001b[0m\n\u001b[1;32m     21\u001b[0m     \u001b[0;32mfor\u001b[0m \u001b[0mi\u001b[0m\u001b[0;34m,\u001b[0m \u001b[0mbar\u001b[0m \u001b[0;32min\u001b[0m \u001b[0menumerate\u001b[0m\u001b[0;34m(\u001b[0m\u001b[0mindiv\u001b[0m\u001b[0;34m.\u001b[0m\u001b[0msequence\u001b[0m\u001b[0;34m)\u001b[0m\u001b[0;34m:\u001b[0m\u001b[0;34m\u001b[0m\u001b[0;34m\u001b[0m\u001b[0m\n\u001b[0;32m---> 22\u001b[0;31m         \u001b[0;32mfor\u001b[0m \u001b[0mnote\u001b[0m \u001b[0;32min\u001b[0m \u001b[0mbar\u001b[0m\u001b[0;34m.\u001b[0m\u001b[0mbit\u001b[0m\u001b[0;34m.\u001b[0m\u001b[0mkeys\u001b[0m\u001b[0;34m:\u001b[0m\u001b[0;34m\u001b[0m\u001b[0;34m\u001b[0m\u001b[0m\n\u001b[0m\u001b[1;32m     23\u001b[0m             \u001b[0;31m# print(note)\u001b[0m\u001b[0;34m\u001b[0m\u001b[0;34m\u001b[0m\u001b[0;34m\u001b[0m\u001b[0m\n\u001b[1;32m     24\u001b[0m             \u001b[0mmy_midi\u001b[0m\u001b[0;34m.\u001b[0m\u001b[0maddNote\u001b[0m\u001b[0;34m(\u001b[0m\u001b[0mtrack\u001b[0m\u001b[0;34m,\u001b[0m \u001b[0mchannel\u001b[0m\u001b[0;34m,\u001b[0m \u001b[0mnote\u001b[0m\u001b[0;34m.\u001b[0m\u001b[0mpitch\u001b[0m\u001b[0;34m,\u001b[0m \u001b[0mnote\u001b[0m\u001b[0;34m.\u001b[0m\u001b[0mtimestamp\u001b[0m\u001b[0;34m,\u001b[0m \u001b[0mnote\u001b[0m\u001b[0;34m.\u001b[0m\u001b[0mduration\u001b[0m\u001b[0;34m,\u001b[0m \u001b[0mvolume\u001b[0m\u001b[0;34m)\u001b[0m\u001b[0;34m\u001b[0m\u001b[0;34m\u001b[0m\u001b[0m\n",
      "\u001b[0;31mAttributeError\u001b[0m: 'int' object has no attribute 'keys'"
     ]
    }
   ],
   "source": [
    "stats = population.start()"
   ]
  },
  {
   "cell_type": "code",
   "execution_count": null,
   "metadata": {
    "ExecuteTime": {
     "end_time": "2019-10-23T15:30:54.021686Z",
     "start_time": "2019-10-23T15:30:49.460Z"
    },
    "pycharm": {
     "is_executing": false
    },
    "scrolled": false
   },
   "outputs": [],
   "source": [
    "# print(stats)\n",
    "show_stats(stats)"
   ]
  },
  {
   "cell_type": "code",
   "execution_count": null,
   "metadata": {
    "ExecuteTime": {
     "end_time": "2019-10-23T15:30:54.022700Z",
     "start_time": "2019-10-23T15:30:49.463Z"
    },
    "pycharm": {
     "is_executing": false
    }
   },
   "outputs": [],
   "source": [
    "parameters['insertion'] = 'age'\n",
    "population = Population(parameters)"
   ]
  },
  {
   "cell_type": "code",
   "execution_count": null,
   "metadata": {
    "ExecuteTime": {
     "end_time": "2019-10-23T15:30:54.023938Z",
     "start_time": "2019-10-23T15:30:49.465Z"
    },
    "pycharm": {
     "is_executing": false
    },
    "scrolled": true
   },
   "outputs": [],
   "source": [
    "stats = population.start()"
   ]
  },
  {
   "cell_type": "code",
   "execution_count": null,
   "metadata": {
    "ExecuteTime": {
     "end_time": "2019-10-23T15:30:54.024680Z",
     "start_time": "2019-10-23T15:30:49.468Z"
    },
    "pycharm": {
     "is_executing": false
    },
    "scrolled": false
   },
   "outputs": [],
   "source": [
    "show_stats(stats)"
   ]
  },
  {
   "cell_type": "markdown",
   "metadata": {},
   "source": [
    "# Etude spécifique des parametres\n",
    "\n",
    "    choisir une config \"neutre\":\n",
    "        \n",
    "        taille one max 100, tournois 5-2, croisement uniforme, bit flip, age\n",
    "        \n",
    "        varier taille pop 5 -> 100\n",
    "        \n",
    "    fixer la taille 20/30\n",
    "    \n",
    "        étude des selections (reste fixe)\n",
    "        \n",
    "            diff composants/operateurs\n",
    "\n",
    "    => bonne config\n",
    "    \n",
    "        tournois 5-2 =, crossover uniforme, bit flip, fitness\n",
    "        \n",
    "\n",
    "    varier tx mutation\n",
    "    tx croisement\n",
    "    \n",
    "    comparaison de diff config\n",
    "    \n",
    "    \n",
    "ParamILS revac irace\n",
    "\n"
   ]
  },
  {
   "cell_type": "code",
   "execution_count": null,
   "metadata": {
    "ExecuteTime": {
     "end_time": "2019-10-23T15:30:54.025993Z",
     "start_time": "2019-10-23T15:30:49.518Z"
    },
    "pycharm": {
     "is_executing": false
    }
   },
   "outputs": [],
   "source": [
    "from collections import Counter\n",
    "from random import randint\n",
    "\n",
    "\n",
    "def weighted_random(pairs):\n",
    "    total = sum(pair[0] for pair in pairs)\n",
    "    r = randint(1, total)\n",
    "    for (weight, value) in pairs:\n",
    "        r -= weight\n",
    "        if r <= 0:\n",
    "            return value\n",
    "\n",
    "\n",
    "results = Counter(\n",
    "    weighted_random([(1, 'a'), (1, 'b'), (18, 'c')]) for _ in range(20000))\n",
    "print(results)"
   ]
  },
  {
   "cell_type": "code",
   "execution_count": null,
   "metadata": {
    "ExecuteTime": {
     "end_time": "2019-10-23T15:30:54.027700Z",
     "start_time": "2019-10-23T15:30:49.520Z"
    },
    "pycharm": {
     "is_executing": false
    }
   },
   "outputs": [],
   "source": [
    "from tqdm.notebook import trange, tqdm\n",
    "from time import sleep\n",
    "\n",
    "for i in trange(3, desc='1st loop'):\n",
    "    for j in tqdm(range(100), desc='2nd loop'):\n",
    "        sleep(0.01)"
   ]
  },
  {
   "cell_type": "code",
   "execution_count": null,
   "metadata": {
    "ExecuteTime": {
     "end_time": "2019-10-23T15:30:54.028769Z",
     "start_time": "2019-10-23T15:30:49.522Z"
    },
    "pycharm": {
     "is_executing": false
    }
   },
   "outputs": [],
   "source": [
    "import random\n",
    "print(random.choices(\n",
    "    ['apple', 'gun', 'pizza', 'sword', 'pasta', 'chicken', 'elephant'], \n",
    "    [0.1, 0.3, 0.1, 0.2, 0.1, 0.1, 0.1],\n",
    "    k=3))"
   ]
  },
  {
   "cell_type": "code",
   "execution_count": null,
   "metadata": {
    "ExecuteTime": {
     "end_time": "2019-10-23T15:30:54.030248Z",
     "start_time": "2019-10-23T15:30:49.524Z"
    },
    "pycharm": {
     "is_executing": false
    }
   },
   "outputs": [],
   "source": [
    "def choices_no_replacement(population, weights, k=1):\n",
    "    population = list(population)\n",
    "    weigths = list(weights)    \n",
    "    result = []\n",
    "    for n in range(k):\n",
    "        pos = random.choices(\n",
    "            range(len(population)), \n",
    "            weights,\n",
    "            k=1\n",
    "        )[0]\n",
    "        result.append(population[pos])\n",
    "        del population[pos], weights[pos]\n",
    "    return result"
   ]
  },
  {
   "cell_type": "code",
   "execution_count": null,
   "metadata": {
    "ExecuteTime": {
     "end_time": "2019-10-23T15:30:54.031564Z",
     "start_time": "2019-10-23T15:30:49.525Z"
    },
    "pycharm": {
     "is_executing": false
    }
   },
   "outputs": [],
   "source": [
    "print(choices_no_replacement(\n",
    "    ['apple', 'gun', 'pizza', 'sword', 'pasta', 'chicken', 'elephant'],\n",
    "    [0.1    ,  0.3 ,    -1  ,    36  ,   -12  ,    -12   ,   -12],\n",
    "    k=3))"
   ]
  },
  {
   "cell_type": "code",
   "execution_count": null,
   "metadata": {
    "pycharm": {
     "is_executing": false
    }
   },
   "outputs": [],
   "source": []
  }
 ],
 "metadata": {
  "kernelspec": {
   "display_name": "Python 3",
   "language": "python",
   "name": "python3"
  },
  "language_info": {
   "codemirror_mode": {
    "name": "ipython",
    "version": 3
   },
   "file_extension": ".py",
   "mimetype": "text/x-python",
   "name": "python",
   "nbconvert_exporter": "python",
   "pygments_lexer": "ipython3",
   "version": "3.7.4"
  },
  "pycharm": {
   "stem_cell": {
    "cell_type": "raw",
    "metadata": {
     "collapsed": false
    },
    "source": []
   }
  },
  "toc": {
   "base_numbering": 1,
   "nav_menu": {
    "height": "44px",
    "width": "278px"
   },
   "number_sections": true,
   "sideBar": true,
   "skip_h1_title": false,
   "title_cell": "Table of Contents",
   "title_sidebar": "Contents",
   "toc_cell": true,
   "toc_position": {
    "height": "calc(100% - 180px)",
    "left": "10px",
    "top": "150px",
    "width": "288.2px"
   },
   "toc_section_display": true,
   "toc_window_display": false
  },
  "varInspector": {
   "cols": {
    "lenName": 16,
    "lenType": 16,
    "lenVar": 40
   },
   "kernels_config": {
    "python": {
     "delete_cmd_postfix": "",
     "delete_cmd_prefix": "del ",
     "library": "var_list.py",
     "varRefreshCmd": "print(var_dic_list())"
    },
    "r": {
     "delete_cmd_postfix": ") ",
     "delete_cmd_prefix": "rm(",
     "library": "var_list.r",
     "varRefreshCmd": "cat(var_dic_list()) "
    }
   },
   "position": {
    "height": "820.85px",
    "left": "1508px",
    "right": "20px",
    "top": "113px",
    "width": "360px"
   },
   "types_to_exclude": [
    "module",
    "function",
    "builtin_function_or_method",
    "instance",
    "_Feature"
   ],
   "window_display": true
  }
 },
 "nbformat": 4,
 "nbformat_minor": 4
}
