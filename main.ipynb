{
 "cells": [
  {
   "cell_type": "markdown",
   "metadata": {
    "toc": true
   },
   "source": [
    "<h1>Table of Contents<span class=\"tocSkip\"></span></h1>\n",
    "<div class=\"toc\"><ul class=\"toc-item\"><li><span><a href=\"#Etude-spécifique-des-parametres\" data-toc-modified-id=\"Etude-spécifique-des-parametres-1\"><span class=\"toc-item-num\">1&nbsp;&nbsp;</span>Etude spécifique des parametres</a></span></li></ul></div>"
   ]
  },
  {
   "cell_type": "code",
   "execution_count": 1,
   "metadata": {
    "ExecuteTime": {
     "end_time": "2019-10-17T12:04:15.085904Z",
     "start_time": "2019-10-17T12:04:14.491940Z"
    },
    "pycharm": {
     "is_executing": false
    }
   },
   "outputs": [],
   "source": [
    "from gen_algo.genetic_algorithm import Population\n",
    "from gen_algo.tools.plot import show_stats"
   ]
  },
  {
   "cell_type": "code",
   "execution_count": 2,
   "metadata": {
    "ExecuteTime": {
     "end_time": "2019-10-17T12:04:15.092381Z",
     "start_time": "2019-10-17T12:04:15.087862Z"
    },
    "pycharm": {
     "is_executing": false
    }
   },
   "outputs": [],
   "source": [
    "parameters = {\n",
    "    'configuration name': 'config1',\n",
    "    'individual': ['gen_algo.individuals.onemax', 'IndividualOneMax'],\n",
    "\n",
    "    'population size': 100,  # 100 200 500\n",
    "    'chromosome size': 50,  # 5 10 50 100\n",
    "\n",
    "    'nb turn max': 10000,\n",
    "    'stop after no change': 10000,  # int(config['nb turn max']*0.10),\n",
    "\n",
    "    'adaptative selection': [('select_random', 0.25),\n",
    "                             ('select_best', 0.25),\n",
    "                             ('select_tournament', 0.25),\n",
    "                             ('select_wheel', 0.25)],\n",
    "\n",
    "    # 'select_random' 'select_best' 'select_tournament' 'select_wheel' 'adaptative'\n",
    "    'selection': 'select_tournament',\n",
    "    'proportion selection': 0.02,  # 2 / config['population size']\n",
    "    'nb selected tournament': 20,  # int(config['population size']*0.4)\n",
    "\n",
    "    'proportion crossover': 1,\n",
    "    'type crossover': 'mono-point',  # 'mono-point' 'uniforme'\n",
    "\n",
    "    # ['n-flip', 1] ['n-flip', 3] ['n-flip', 5] ['bit-flip']\n",
    "    'mutation': ['bit-flip'],\n",
    "    'proportion mutation': 0.2,  # 0.1 0.2 0.5 0.8\n",
    "\n",
    "    'insertion': 'fitness',  # 'age' 'fitness'\n",
    "}"
   ]
  },
  {
   "cell_type": "code",
   "execution_count": 3,
   "metadata": {
    "ExecuteTime": {
     "end_time": "2019-10-17T12:04:15.100004Z",
     "start_time": "2019-10-17T12:04:15.093708Z"
    },
    "pycharm": {
     "is_executing": false
    }
   },
   "outputs": [],
   "source": [
    "population = Population(parameters)"
   ]
  },
  {
   "cell_type": "code",
   "execution_count": 4,
   "metadata": {
    "ExecuteTime": {
     "end_time": "2019-10-17T12:04:15.203461Z",
     "start_time": "2019-10-17T12:04:15.101506Z"
    },
    "scrolled": true,
    "pycharm": {
     "is_executing": false
    }
   },
   "outputs": [
    {
     "name": "stdout",
     "text": [
      "2\n1\n[(00000000000000000000000000000000000000000000000000 0, 0, 1), (00000000000000000000000000000000000000000000000000 0, 0, 1), (00000000000000000000000000000000000000000000000000 0, 0, 1), (00000000000000000000000000000000000000000000000000 0, 0, 1), (00000000000000000000000000000000000000000000000000 0, 0, 1), (00000000000000000000000000000000000000000000000000 0, 0, 1), (00000000000000000000000000000000000000000000000000 0, 0, 1), (00000000000000000000000000000000000000000000000000 0, 0, 1), (00000000000000000000000000000000000000000000000000 0, 0, 1), (00000000000000000000000000000000000000000000000000 0, 0, 1), (00000000000000000000000000000000000000000000000000 0, 0, 1), (00000000000000000000000000000000000000000000000000 0, 0, 1), (00000000000000000000000000000000000000000000000000 0, 0, 1), (00000000000000000000000000000000000000000000000000 0, 0, 1), (00000000000000000000000000000000000000000000000000 0, 0, 1), (00000000000000000000000000000000000000000000000000 0, 0, 1), (00000000000000000000000000000000000000000000000000 0, 0, 1), (00000000000000000000000000000000000000000000000000 0, 0, 1), (00000000000000000000000000000000000000000000000000 0, 0, 1), (00000000000000000000000000000000000000000000000000 0, 0, 1)]\n[(00000000000000000000000000000000000000000000000000 0, 0, 1), (00000000000000000000000000000000000000000000000000 0, 0, 1), (00000000000000000000000000000000000000000000000000 0, 0, 1), (00000000000000000000000000000000000000000000000000 0, 0, 1), (00000000000000000000000000000000000000000000000000 0, 0, 1), (00000000000000000000000000000000000000000000000000 0, 0, 1), (00000000000000000000000000000000000000000000000000 0, 0, 1), (00000000000000000000000000000000000000000000000000 0, 0, 1), (00000000000000000000000000000000000000000000000000 0, 0, 1), (00000000000000000000000000000000000000000000000000 0, 0, 1), (00000000000000000000000000000000000000000000000000 0, 0, 1), (00000000000000000000000000000000000000000000000000 0, 0, 1), (00000000000000000000000000000000000000000000000000 0, 0, 1), (00000000000000000000000000000000000000000000000000 0, 0, 1), (00000000000000000000000000000000000000000000000000 0, 0, 1), (00000000000000000000000000000000000000000000000000 0, 0, 1), (00000000000000000000000000000000000000000000000000 0, 0, 1), (00000000000000000000000000000000000000000000000000 0, 0, 1), (00000000000000000000000000000000000000000000000000 0, 0, 1), (00000000000000000000000000000000000000000000000000 0, 0, 1)]\n[(00000000000000000000000000000000000000000000000000 0, 0, 1), (00000000000000000000000000000000000000000000000000 0, 0, 1), (00000000000000000000000000000000000000000000000000 0, 0, 1), (00000000000000000000000000000000000000000000000000 0, 0, 1), (00000000000000000000000000000000000000000000000000 0, 0, 1), (00000000000000000000000000000000000000000000000000 0, 0, 1), (00000000000000000000000000000000000000000000000000 0, 0, 1), (00000000000000000000000000000000000000000000000000 0, 0, 1), (00000000000000000000000000000000000000000000000000 0, 0, 1), (00000000000000000000000000000000000000000000000000 0, 0, 1), (00000000000000000000000000000000000000000000000000 0, 0, 1), (00000000000000000000000000000000000000000000000000 0, 0, 1), (00000000000000000000000000000000000000000000000000 0, 0, 1), (00000000000000000000000000000000000000000000000000 0, 0, 1), (00000000000000000000000000000000000000000000000000 0, 0, 1), (00000000000000000000000000000000000000000000000000 0, 0, 1), (00000000000000000000000000000000000000000000000000 0, 0, 1), (00000000000000000000000000000000000000000000000000 0, 0, 1)]\n"
     ],
     "output_type": "stream"
    },
    {
     "traceback": [
      "\u001b[0;31m---------------------------------------------------------------------------\u001b[0m",
      "\u001b[0;31mIndexError\u001b[0m                                Traceback (most recent call last)",
      "\u001b[0;32m<ipython-input-4-6ffdad132ce1>\u001b[0m in \u001b[0;36m<module>\u001b[0;34m\u001b[0m\n\u001b[0;32m----> 1\u001b[0;31m \u001b[0mstats\u001b[0m \u001b[0;34m=\u001b[0m \u001b[0mpopulation\u001b[0m\u001b[0;34m.\u001b[0m\u001b[0mstart\u001b[0m\u001b[0;34m(\u001b[0m\u001b[0;34m)\u001b[0m\u001b[0;34m\u001b[0m\u001b[0;34m\u001b[0m\u001b[0m\n\u001b[0m\u001b[1;32m      2\u001b[0m \u001b[0;34m\u001b[0m\u001b[0m\n",
      "\u001b[0;32m~/Documents/m2/7 projet/MuGen/GenAl/gen_algo/genetic_algorithm.py\u001b[0m in \u001b[0;36mstart\u001b[0;34m(self)\u001b[0m\n\u001b[1;32m     43\u001b[0m             \u001b[0mself\u001b[0m\u001b[0;34m.\u001b[0m\u001b[0mpopulation_get_older\u001b[0m\u001b[0;34m(\u001b[0m\u001b[0;34m)\u001b[0m\u001b[0;34m\u001b[0m\u001b[0;34m\u001b[0m\u001b[0m\n\u001b[1;32m     44\u001b[0m             \u001b[0mself\u001b[0m\u001b[0;34m.\u001b[0m\u001b[0msort_individuals_fitness\u001b[0m\u001b[0;34m(\u001b[0m\u001b[0;34m)\u001b[0m\u001b[0;34m\u001b[0m\u001b[0;34m\u001b[0m\u001b[0m\n\u001b[0;32m---> 45\u001b[0;31m             \u001b[0mself\u001b[0m\u001b[0;34m.\u001b[0m\u001b[0mturn\u001b[0m\u001b[0;34m(\u001b[0m\u001b[0;34m)\u001b[0m\u001b[0;34m\u001b[0m\u001b[0;34m\u001b[0m\u001b[0m\n\u001b[0m\u001b[1;32m     46\u001b[0m             \u001b[0mself\u001b[0m\u001b[0;34m.\u001b[0m\u001b[0mstatistic\u001b[0m\u001b[0;34m(\u001b[0m\u001b[0;34m)\u001b[0m\u001b[0;34m\u001b[0m\u001b[0;34m\u001b[0m\u001b[0m\n\u001b[1;32m     47\u001b[0m         \u001b[0;32mreturn\u001b[0m \u001b[0mself\u001b[0m\u001b[0;34m.\u001b[0m\u001b[0mtermination\u001b[0m\u001b[0;34m(\u001b[0m\u001b[0;34m)\u001b[0m\u001b[0;34m\u001b[0m\u001b[0;34m\u001b[0m\u001b[0m\n",
      "\u001b[0;32m~/Documents/m2/7 projet/MuGen/GenAl/gen_algo/genetic_algorithm.py\u001b[0m in \u001b[0;36mturn\u001b[0;34m(self)\u001b[0m\n\u001b[1;32m     49\u001b[0m     \u001b[0;32mdef\u001b[0m \u001b[0mturn\u001b[0m\u001b[0;34m(\u001b[0m\u001b[0mself\u001b[0m\u001b[0;34m)\u001b[0m\u001b[0;34m:\u001b[0m\u001b[0;34m\u001b[0m\u001b[0;34m\u001b[0m\u001b[0m\n\u001b[1;32m     50\u001b[0m         \u001b[0mself\u001b[0m\u001b[0;34m.\u001b[0m\u001b[0mselection\u001b[0m\u001b[0;34m(\u001b[0m\u001b[0;34m)\u001b[0m\u001b[0;34m\u001b[0m\u001b[0;34m\u001b[0m\u001b[0m\n\u001b[0;32m---> 51\u001b[0;31m         \u001b[0mself\u001b[0m\u001b[0;34m.\u001b[0m\u001b[0mcrossover\u001b[0m\u001b[0;34m(\u001b[0m\u001b[0;34m)\u001b[0m\u001b[0;34m\u001b[0m\u001b[0;34m\u001b[0m\u001b[0m\n\u001b[0m\u001b[1;32m     52\u001b[0m         \u001b[0mself\u001b[0m\u001b[0;34m.\u001b[0m\u001b[0mmutation\u001b[0m\u001b[0;34m(\u001b[0m\u001b[0;34m)\u001b[0m\u001b[0;34m\u001b[0m\u001b[0;34m\u001b[0m\u001b[0m\n\u001b[1;32m     53\u001b[0m         \u001b[0mself\u001b[0m\u001b[0;34m.\u001b[0m\u001b[0minsertion\u001b[0m\u001b[0;34m(\u001b[0m\u001b[0;34m)\u001b[0m\u001b[0;34m\u001b[0m\u001b[0;34m\u001b[0m\u001b[0m\n",
      "\u001b[0;32m~/Documents/m2/7 projet/MuGen/GenAl/gen_algo/genetic_algorithm.py\u001b[0m in \u001b[0;36mcrossover\u001b[0;34m(self)\u001b[0m\n\u001b[1;32m    133\u001b[0m                 \u001b[0;32mif\u001b[0m \u001b[0mrandom\u001b[0m\u001b[0;34m.\u001b[0m\u001b[0mrandom\u001b[0m\u001b[0;34m(\u001b[0m\u001b[0;34m)\u001b[0m \u001b[0;34m<=\u001b[0m \u001b[0mself\u001b[0m\u001b[0;34m.\u001b[0m\u001b[0mparameters\u001b[0m\u001b[0;34m[\u001b[0m\u001b[0;34m'proportion crossover'\u001b[0m\u001b[0;34m]\u001b[0m\u001b[0;34m:\u001b[0m\u001b[0;34m\u001b[0m\u001b[0;34m\u001b[0m\u001b[0m\n\u001b[1;32m    134\u001b[0m                     \u001b[0;32mif\u001b[0m \u001b[0mlen\u001b[0m\u001b[0;34m(\u001b[0m\u001b[0mself\u001b[0m\u001b[0;34m.\u001b[0m\u001b[0mselected\u001b[0m\u001b[0;34m)\u001b[0m \u001b[0;34m<=\u001b[0m \u001b[0mi\u001b[0m \u001b[0;34m+\u001b[0m \u001b[0;36m1\u001b[0m\u001b[0;34m:\u001b[0m\u001b[0;34m\u001b[0m\u001b[0;34m\u001b[0m\u001b[0m\n\u001b[0;32m--> 135\u001b[0;31m                         \u001b[0mrand\u001b[0m \u001b[0;34m=\u001b[0m \u001b[0mrandom\u001b[0m\u001b[0;34m.\u001b[0m\u001b[0mchoice\u001b[0m\u001b[0;34m(\u001b[0m\u001b[0mself\u001b[0m\u001b[0;34m.\u001b[0m\u001b[0mselected\u001b[0m\u001b[0;34m[\u001b[0m\u001b[0;36m0\u001b[0m\u001b[0;34m:\u001b[0m\u001b[0;34m-\u001b[0m\u001b[0;36m1\u001b[0m\u001b[0;34m]\u001b[0m\u001b[0;34m)\u001b[0m\u001b[0;34m\u001b[0m\u001b[0;34m\u001b[0m\u001b[0m\n\u001b[0m\u001b[1;32m    136\u001b[0m                         \u001b[0mfirst_child\u001b[0m\u001b[0;34m,\u001b[0m \u001b[0msecond_child\u001b[0m \u001b[0;34m=\u001b[0m \u001b[0mself\u001b[0m\u001b[0;34m.\u001b[0m\u001b[0mselected\u001b[0m\u001b[0;34m[\u001b[0m\u001b[0;34m-\u001b[0m\u001b[0;36m1\u001b[0m\u001b[0;34m]\u001b[0m\u001b[0;34m.\u001b[0m\u001b[0mcrossover\u001b[0m\u001b[0;34m(\u001b[0m\u001b[0mrand\u001b[0m\u001b[0;34m)\u001b[0m\u001b[0;34m\u001b[0m\u001b[0;34m\u001b[0m\u001b[0m\n\u001b[1;32m    137\u001b[0m                     \u001b[0;32melse\u001b[0m\u001b[0;34m:\u001b[0m\u001b[0;34m\u001b[0m\u001b[0;34m\u001b[0m\u001b[0m\n",
      "\u001b[0;32m~/anaconda3/envs/gen/lib/python3.7/random.py\u001b[0m in \u001b[0;36mchoice\u001b[0;34m(self, seq)\u001b[0m\n\u001b[1;32m    259\u001b[0m             \u001b[0mi\u001b[0m \u001b[0;34m=\u001b[0m \u001b[0mself\u001b[0m\u001b[0;34m.\u001b[0m\u001b[0m_randbelow\u001b[0m\u001b[0;34m(\u001b[0m\u001b[0mlen\u001b[0m\u001b[0;34m(\u001b[0m\u001b[0mseq\u001b[0m\u001b[0;34m)\u001b[0m\u001b[0;34m)\u001b[0m\u001b[0;34m\u001b[0m\u001b[0;34m\u001b[0m\u001b[0m\n\u001b[1;32m    260\u001b[0m         \u001b[0;32mexcept\u001b[0m \u001b[0mValueError\u001b[0m\u001b[0;34m:\u001b[0m\u001b[0;34m\u001b[0m\u001b[0;34m\u001b[0m\u001b[0m\n\u001b[0;32m--> 261\u001b[0;31m             \u001b[0;32mraise\u001b[0m \u001b[0mIndexError\u001b[0m\u001b[0;34m(\u001b[0m\u001b[0;34m'Cannot choose from an empty sequence'\u001b[0m\u001b[0;34m)\u001b[0m \u001b[0;32mfrom\u001b[0m \u001b[0;32mNone\u001b[0m\u001b[0;34m\u001b[0m\u001b[0;34m\u001b[0m\u001b[0m\n\u001b[0m\u001b[1;32m    262\u001b[0m         \u001b[0;32mreturn\u001b[0m \u001b[0mseq\u001b[0m\u001b[0;34m[\u001b[0m\u001b[0mi\u001b[0m\u001b[0;34m]\u001b[0m\u001b[0;34m\u001b[0m\u001b[0;34m\u001b[0m\u001b[0m\n\u001b[1;32m    263\u001b[0m \u001b[0;34m\u001b[0m\u001b[0m\n",
      "\u001b[0;31mIndexError\u001b[0m: Cannot choose from an empty sequence"
     ],
     "ename": "IndexError",
     "evalue": "Cannot choose from an empty sequence",
     "output_type": "error"
    }
   ],
   "source": [
    "stats = population.start()"
   ]
  },
  {
   "cell_type": "code",
   "execution_count": null,
   "metadata": {
    "ExecuteTime": {
     "end_time": "2019-10-17T12:04:15.210436Z",
     "start_time": "2019-10-17T12:04:14.477Z"
    },
    "scrolled": false,
    "pycharm": {
     "is_executing": false
    }
   },
   "outputs": [],
   "source": [
    "# print(stats)\n",
    "show_stats(stats)"
   ]
  },
  {
   "cell_type": "code",
   "execution_count": null,
   "metadata": {
    "ExecuteTime": {
     "end_time": "2019-10-17T12:04:15.211595Z",
     "start_time": "2019-10-17T12:04:14.480Z"
    },
    "pycharm": {
     "is_executing": false
    }
   },
   "outputs": [],
   "source": [
    "parameters['insertion'] = 'age'\n",
    "population = Population(parameters)"
   ]
  },
  {
   "cell_type": "code",
   "execution_count": null,
   "metadata": {
    "ExecuteTime": {
     "end_time": "2019-10-17T12:04:15.212925Z",
     "start_time": "2019-10-17T12:04:14.483Z"
    },
    "scrolled": true,
    "pycharm": {
     "is_executing": false
    }
   },
   "outputs": [],
   "source": [
    "stats = population.start()"
   ]
  },
  {
   "cell_type": "code",
   "execution_count": null,
   "metadata": {
    "ExecuteTime": {
     "end_time": "2019-10-17T12:04:15.214119Z",
     "start_time": "2019-10-17T12:04:14.485Z"
    },
    "scrolled": false,
    "pycharm": {
     "is_executing": false
    }
   },
   "outputs": [],
   "source": [
    "show_stats(stats)"
   ]
  },
  {
   "cell_type": "markdown",
   "metadata": {},
   "source": [
    "# Etude spécifique des parametres\n",
    "\n",
    "    choisir une config \"neutre\":\n",
    "        \n",
    "        taille one max 100, tournois 5-2, croisement uniforme, bit flip, age\n",
    "        \n",
    "        varier taille pop 5 -> 100\n",
    "        \n",
    "    fixer la taille 20/30\n",
    "    \n",
    "        étude des selections (reste fixe)\n",
    "        \n",
    "            diff composants/operateurs\n",
    "\n",
    "    => bonne config\n",
    "    \n",
    "        tournois 5-2 =, crossover uniforme, bit flip, fitness\n",
    "        \n",
    "\n",
    "    varier tx mutation\n",
    "    tx croisement\n",
    "    \n",
    "    comparaison de diff config\n",
    "    \n",
    "    \n",
    "ParamILS revac irace\n",
    "\n"
   ]
  },
  {
   "cell_type": "code",
   "execution_count": null,
   "metadata": {
    "ExecuteTime": {
     "end_time": "2019-10-17T12:04:15.215675Z",
     "start_time": "2019-10-17T12:04:14.536Z"
    },
    "pycharm": {
     "is_executing": false
    }
   },
   "outputs": [],
   "source": [
    "from collections import Counter\n",
    "from random import randint\n",
    "\n",
    "\n",
    "def weighted_random(pairs):\n",
    "    total = sum(pair[0] for pair in pairs)\n",
    "    r = randint(1, total)\n",
    "    for (weight, value) in pairs:\n",
    "        r -= weight\n",
    "        if r <= 0:\n",
    "            return value\n",
    "\n",
    "\n",
    "results = Counter(\n",
    "    weighted_random([(1, 'a'), (1, 'b'), (18, 'c')]) for _ in range(20000))\n",
    "print(results)"
   ]
  },
  {
   "cell_type": "code",
   "execution_count": null,
   "metadata": {
    "ExecuteTime": {
     "end_time": "2019-10-17T12:04:15.217025Z",
     "start_time": "2019-10-17T12:04:14.540Z"
    },
    "pycharm": {
     "is_executing": false
    }
   },
   "outputs": [],
   "source": [
    "from tqdm.notebook import trange, tqdm\n",
    "from time import sleep\n",
    "\n",
    "for i in trange(3, desc='1st loop'):\n",
    "    for j in tqdm(range(100), desc='2nd loop'):\n",
    "        sleep(0.01)"
   ]
  },
  {
   "cell_type": "code",
   "execution_count": null,
   "metadata": {
    "ExecuteTime": {
     "end_time": "2019-10-17T12:04:15.218303Z",
     "start_time": "2019-10-17T12:04:14.543Z"
    },
    "pycharm": {
     "is_executing": false
    }
   },
   "outputs": [],
   "source": [
    "import random\n",
    "print(random.choices(\n",
    "    ['apple', 'gun', 'pizza', 'sword', 'pasta', 'chicken', 'elephant'], \n",
    "    [0.1, 0.3, 0.1, 0.2, 0.1, 0.1, 0.1],\n",
    "    k=3))"
   ]
  },
  {
   "cell_type": "code",
   "execution_count": null,
   "metadata": {
    "ExecuteTime": {
     "end_time": "2019-10-17T12:04:15.219663Z",
     "start_time": "2019-10-17T12:04:14.545Z"
    },
    "pycharm": {
     "is_executing": false
    }
   },
   "outputs": [],
   "source": [
    "def choices_no_replacement(population, weights, k=1):\n",
    "    population = list(population)\n",
    "    weigths = list(weights)    \n",
    "    result = []\n",
    "    for n in range(k):\n",
    "        pos = random.choices(\n",
    "            range(len(population)), \n",
    "            weights,\n",
    "            k=1\n",
    "        )[0]\n",
    "        result.append(population[pos])\n",
    "        del population[pos], weights[pos]\n",
    "    return result"
   ]
  },
  {
   "cell_type": "code",
   "execution_count": null,
   "metadata": {
    "ExecuteTime": {
     "end_time": "2019-10-17T12:04:15.221057Z",
     "start_time": "2019-10-17T12:04:14.548Z"
    },
    "pycharm": {
     "is_executing": false
    }
   },
   "outputs": [],
   "source": [
    "print(choices_no_replacement(\n",
    "    ['apple', 'gun', 'pizza', 'sword', 'pasta', 'chicken', 'elephant'],\n",
    "    [0.1    ,  0.3 ,    -1  ,    36  ,   -12  ,    -12   ,   -12],\n",
    "    k=3))"
   ]
  },
  {
   "cell_type": "code",
   "execution_count": null,
   "metadata": {
    "pycharm": {
     "is_executing": false
    }
   },
   "outputs": [],
   "source": []
  }
 ],
 "metadata": {
  "kernelspec": {
   "display_name": "Python 3",
   "language": "python",
   "name": "python3"
  },
  "language_info": {
   "codemirror_mode": {
    "name": "ipython",
    "version": 3
   },
   "file_extension": ".py",
   "mimetype": "text/x-python",
   "name": "python",
   "nbconvert_exporter": "python",
   "pygments_lexer": "ipython3",
   "version": "3.7.4"
  },
  "toc": {
   "base_numbering": 1,
   "nav_menu": {
    "height": "44px",
    "width": "278px"
   },
   "number_sections": true,
   "sideBar": true,
   "skip_h1_title": false,
   "title_cell": "Table of Contents",
   "title_sidebar": "Contents",
   "toc_cell": true,
   "toc_position": {
    "height": "calc(100% - 180px)",
    "left": "10px",
    "top": "150px",
    "width": "288.2px"
   },
   "toc_section_display": true,
   "toc_window_display": false
  },
  "varInspector": {
   "cols": {
    "lenName": 16,
    "lenType": 16,
    "lenVar": 40
   },
   "kernels_config": {
    "python": {
     "delete_cmd_postfix": "",
     "delete_cmd_prefix": "del ",
     "library": "var_list.py",
     "varRefreshCmd": "print(var_dic_list())"
    },
    "r": {
     "delete_cmd_postfix": ") ",
     "delete_cmd_prefix": "rm(",
     "library": "var_list.r",
     "varRefreshCmd": "cat(var_dic_list()) "
    }
   },
   "position": {
    "height": "820.85px",
    "left": "1508px",
    "right": "20px",
    "top": "113px",
    "width": "360px"
   },
   "types_to_exclude": [
    "module",
    "function",
    "builtin_function_or_method",
    "instance",
    "_Feature"
   ],
   "window_display": true
  },
  "pycharm": {
   "stem_cell": {
    "cell_type": "raw",
    "source": [],
    "metadata": {
     "collapsed": false
    }
   }
  }
 },
 "nbformat": 4,
 "nbformat_minor": 4
}