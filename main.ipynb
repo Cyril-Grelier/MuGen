{
 "cells": [
  {
   "cell_type": "markdown",
   "metadata": {
    "toc": true
   },
   "source": [
    "<h1>Table of Contents<span class=\"tocSkip\"></span></h1>\n",
    "<div class=\"toc\"><ul class=\"toc-item\"></ul></div>"
   ]
  },
  {
   "cell_type": "code",
   "execution_count": 1,
   "metadata": {
    "ExecuteTime": {
     "end_time": "2020-01-06T17:00:23.387121Z",
     "start_time": "2020-01-06T17:00:21.954301Z"
    },
    "pycharm": {
     "is_executing": false
    }
   },
   "outputs": [],
   "source": [
    "from individuals.IndividualDrum import IndividualDrum\n",
    "from algo_gen.classes import Population\n",
    "from algo_gen.tools.plot import show_stats"
   ]
  },
  {
   "cell_type": "code",
   "execution_count": null,
   "metadata": {
    "ExecuteTime": {
     "start_time": "2020-01-06T17:00:21.932Z"
    },
    "pycharm": {
     "is_executing": false
    }
   },
   "outputs": [],
   "source": [
    "parameters = {\n",
    "    'configuration name': 'config1',\n",
    "    'individual': IndividualDrum,\n",
    "\n",
    "    'population size': 10,  # 100 200 500\n",
    "    'chromosome size': 12,  # 5 10 50 100\n",
    "\n",
    "    'nb turn max': 10,\n",
    "    'stop after no change': 5000000,  # int(config['nb turn max']*0.10),\n",
    "\n",
    "    'selection':\n",
    "        ['select_best'],\n",
    "    #     ['adaptative',\n",
    "    #      'UCB',\n",
    "    #      [\n",
    "    #          [0.25, 'select_random'],\n",
    "    #          [0.25, 'select_best'],\n",
    "    #          [0.25, 'select_tournament'],\n",
    "    #          [0.25, 'select_wheel']\n",
    "    #      ]],\n",
    "    'proportion selection': 1,  # 0.04,  # 2 / population_size\n",
    "\n",
    "    'crossover':\n",
    "        ['mono-point'],\n",
    "    #     ['adaptative',\n",
    "    #      'UCB',\n",
    "    #      [\n",
    "    #          [0.25, 'mono-point'],\n",
    "    #          [0.25, 'uniforme'],\n",
    "    #      ],\n",
    "    #      0.5],\n",
    "    'proportion crossover': 0,\n",
    "\n",
    "    'mutation':\n",
    "    # ['3-flip'],\n",
    "        ['adaptative',\n",
    "         'UCB',\n",
    "         # 'fixed roulette wheel' 'adaptive roulette wheel' 'adaptive pursuit' 'UCB'\n",
    "         [\n",
    "             [0.25, '1-flip'],\n",
    "             [0.25, '3-flip'],\n",
    "             [0.25, '5-flip'],\n",
    "             [0.25, 'bit-flip']\n",
    "         ],\n",
    "         0.05,  # pmin for adaptive roulette wheel and adaptive poursuite\n",
    "         0.5,  # beta for adaptive poursuit\n",
    "         ],\n",
    "    'proportion mutation': 1,  # 0.1 0.2 0.5 0.8\n",
    "\n",
    "    'insertion': 'fitness',  # 'age' 'fitness'\n",
    "}\n",
    "population = Population(parameters)\n",
    "population.start()\n",
    "show_stats(population.stats)"
   ]
  },
  {
   "cell_type": "code",
   "execution_count": null,
   "metadata": {
    "pycharm": {
     "is_executing": false
    }
   },
   "outputs": [],
   "source": []
  }
 ],
 "metadata": {
  "kernelspec": {
   "display_name": "Python 3",
   "language": "python",
   "name": "python3"
  },
  "language_info": {
   "codemirror_mode": {
    "name": "ipython",
    "version": 3
   },
   "file_extension": ".py",
   "mimetype": "text/x-python",
   "name": "python",
   "nbconvert_exporter": "python",
   "pygments_lexer": "ipython3",
   "version": "3.7.5"
  },
  "pycharm": {
   "stem_cell": {
    "cell_type": "raw",
    "metadata": {
     "collapsed": false
    },
    "source": []
   }
  },
  "toc": {
   "base_numbering": 1,
   "nav_menu": {},
   "number_sections": true,
   "sideBar": true,
   "skip_h1_title": false,
   "title_cell": "Table of Contents",
   "title_sidebar": "Contents",
   "toc_cell": true,
   "toc_position": {},
   "toc_section_display": true,
   "toc_window_display": false
  },
  "varInspector": {
   "cols": {
    "lenName": 16,
    "lenType": 16,
    "lenVar": 40
   },
   "kernels_config": {
    "python": {
     "delete_cmd_postfix": "",
     "delete_cmd_prefix": "del ",
     "library": "var_list.py",
     "varRefreshCmd": "print(var_dic_list())"
    },
    "r": {
     "delete_cmd_postfix": ") ",
     "delete_cmd_prefix": "rm(",
     "library": "var_list.r",
     "varRefreshCmd": "cat(var_dic_list()) "
    }
   },
   "types_to_exclude": [
    "module",
    "function",
    "builtin_function_or_method",
    "instance",
    "_Feature"
   ],
   "window_display": false
  }
 },
 "nbformat": 4,
 "nbformat_minor": 2
}
