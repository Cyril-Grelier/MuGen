{
 "cells": [
  {
   "cell_type": "markdown",
   "metadata": {
    "toc": true
   },
   "source": [
    "<h1>Table of Contents<span class=\"tocSkip\"></span></h1>\n",
    "<div class=\"toc\"><ul class=\"toc-item\"></ul></div>"
   ]
  },
  {
   "cell_type": "code",
   "execution_count": 1,
   "metadata": {
    "ExecuteTime": {
     "end_time": "2019-11-04T11:37:22.895397Z",
     "start_time": "2019-11-04T11:37:22.419865Z"
    },
    "pycharm": {
     "is_executing": false
    }
   },
   "outputs": [
    {
     "ename": "ModuleNotFoundError",
     "evalue": "No module named 'midiutil'",
     "output_type": "error",
     "traceback": [
      "\u001b[0;31m---------------------------------------------------------------------------\u001b[0m",
      "\u001b[0;31mModuleNotFoundError\u001b[0m                       Traceback (most recent call last)",
      "\u001b[0;32m<ipython-input-1-9a049fa0b2ab>\u001b[0m in \u001b[0;36m<module>\u001b[0;34m\u001b[0m\n\u001b[1;32m      1\u001b[0m \u001b[0;32mfrom\u001b[0m \u001b[0malgo_gen\u001b[0m\u001b[0;34m.\u001b[0m\u001b[0mclasses\u001b[0m \u001b[0;32mimport\u001b[0m \u001b[0mPopulation\u001b[0m\u001b[0;34m\u001b[0m\u001b[0;34m\u001b[0m\u001b[0m\n\u001b[1;32m      2\u001b[0m \u001b[0;32mfrom\u001b[0m \u001b[0malgo_gen\u001b[0m\u001b[0;34m.\u001b[0m\u001b[0mtools\u001b[0m\u001b[0;34m.\u001b[0m\u001b[0mplot\u001b[0m \u001b[0;32mimport\u001b[0m \u001b[0mshow_stats\u001b[0m\u001b[0;34m\u001b[0m\u001b[0;34m\u001b[0m\u001b[0m\n\u001b[0;32m----> 3\u001b[0;31m \u001b[0;32mfrom\u001b[0m \u001b[0mmidi_utils\u001b[0m \u001b[0;32mimport\u001b[0m \u001b[0mconvert_to_midi\u001b[0m\u001b[0;34m\u001b[0m\u001b[0;34m\u001b[0m\u001b[0m\n\u001b[0m\u001b[1;32m      4\u001b[0m \u001b[0;34m\u001b[0m\u001b[0m\n",
      "\u001b[0;32m~/Documents/m2/7 projet/MuGen/MuGen/midi_utils.py\u001b[0m in \u001b[0;36m<module>\u001b[0;34m\u001b[0m\n\u001b[1;32m      1\u001b[0m \u001b[0;32mimport\u001b[0m \u001b[0mcontextlib\u001b[0m\u001b[0;34m\u001b[0m\u001b[0;34m\u001b[0m\u001b[0m\n\u001b[1;32m      2\u001b[0m \u001b[0;34m\u001b[0m\u001b[0m\n\u001b[0;32m----> 3\u001b[0;31m \u001b[0;32mfrom\u001b[0m \u001b[0mmidiutil\u001b[0m \u001b[0;32mimport\u001b[0m \u001b[0mMIDIFile\u001b[0m\u001b[0;34m\u001b[0m\u001b[0;34m\u001b[0m\u001b[0m\n\u001b[0m\u001b[1;32m      4\u001b[0m \u001b[0;34m\u001b[0m\u001b[0m\n\u001b[1;32m      5\u001b[0m \u001b[0;32mwith\u001b[0m \u001b[0mcontextlib\u001b[0m\u001b[0;34m.\u001b[0m\u001b[0mredirect_stdout\u001b[0m\u001b[0;34m(\u001b[0m\u001b[0;32mNone\u001b[0m\u001b[0;34m)\u001b[0m\u001b[0;34m:\u001b[0m\u001b[0;34m\u001b[0m\u001b[0;34m\u001b[0m\u001b[0m\n",
      "\u001b[0;31mModuleNotFoundError\u001b[0m: No module named 'midiutil'"
     ]
    }
   ],
   "source": [
    "from algo_gen.classes import Population\n",
    "from algo_gen.tools.plot import show_stats\n",
    "from midi_utils import convert_to_midi"
   ]
  },
  {
   "cell_type": "code",
   "execution_count": null,
   "metadata": {
    "ExecuteTime": {
     "end_time": "2019-11-04T11:37:23.699440Z",
     "start_time": "2019-11-04T11:37:22.896623Z"
    },
    "pycharm": {
     "is_executing": false
    },
    "scrolled": false
   },
   "outputs": [],
   "source": [
    "def function_each_turn(population):\n",
    "        if population.parameters['individual'] == ['algo_gen.individuals.music', 'IndividualMusic']:\n",
    "            for i, indiv in enumerate(population.individuals):\n",
    "                convert_to_midi(indiv[0], str(i) + \"ORI\" + \".mid\")\n",
    "\n",
    "def function_end(population):\n",
    "        if population.parameters['individual'] == ['algo_gen.individuals.music', 'IndividualMusic']:\n",
    "            for i, indiv in enumerate(population.individuals):\n",
    "                convert_to_midi(indiv[0], str(i) + \"ORI\" + \".mid\")\n",
    "\n",
    "        # if self.parameters['individual'] == ['gen_algo.individuals.music', 'IndividualMusic']:\n",
    "        #     from algo_gen.tools.midi_utils import convert_to_midi\n",
    "        #     for i, indiv in enumerate(self.individuals):\n",
    "        #         convert_to_midi(indiv[0], str(i) + \".mid\")\n",
    "        #         # play_midi_file(str(i) + \".mid\")\n",
    "parameters = {\n",
    "    'configuration name': 'music',\n",
    "    'individual': ['algo_gen.individuals.music', 'IndividualMusic'],\n",
    "    \n",
    "    'population size': 50,  # 100 200 500\n",
    "    'chromosome size': 4,  # 5 10 50 100\n",
    "    \n",
    "    'function_each_turn': function_each_turn,\n",
    "    'function_end': function_end,\n",
    "    \n",
    "    'nb turn max': 100,\n",
    "    'stop after no change': 10000,  # int(config['nb turn max']*0.10),\n",
    "\n",
    "    # ('select_random',)\n",
    "    # ('select_best',)\n",
    "    # ('select_tournament', 2, 5)\n",
    "    # ('select_wheel',)\n",
    "    # ('adaptative' ,\n",
    "    #            'fixed roulette wheel' 'adaptive roulette wheel' 'adaptive pursuit' 'UCB' 'DMAB'\n",
    "    #            [(0.25, 'select_random'), (0.25, 'select_best'),\n",
    "    #            (0.25, 'select_tournament', 2 , 5), (0.25, 'select_wheel')])\n",
    "    \n",
    "    'selection': ('select_best',),\n",
    "    'proportion selection': 0.04,  # 2 / config['population size']\n",
    "    \n",
    "    'crossover': 'uniforme',  # 'mono-point' 'uniforme'\n",
    "    'proportion crossover': 1,\n",
    "    \n",
    "    # ['n-flip', 1] ['n-flip', 3] ['n-flip', 5] ['bit-flip']\n",
    "    'mutation': ['bit-flip'],\n",
    "    'proportion mutation': 0.2,  # 0.1 0.2 0.5 0.8\n",
    "    \n",
    "    'insertion': 'age',  # 'age' 'fitness'\n",
    "    \n",
    "    'properties': [(\"gen_algo.fitness.properties\", \"SAScoreProperty2DDecorator\"),\n",
    "                   (\"gen_algo.fitness.properties\", \"CycleProperty2DDecorator\"),\n",
    "                   (\"gen_algo.fitness.properties\", \"LogPProperty2DDecorator\"),\n",
    "                   (\"gen_algo.fitness.properties\", \"DFTPropertyDecorator\"),\n",
    "                   ]\n",
    "\n",
    "}\n",
    "population = Population(parameters)\n",
    "stats = population.start()\n",
    "show_stats(stats)"
   ]
  },
  {
   "cell_type": "code",
   "execution_count": 2,
   "metadata": {
    "ExecuteTime": {
     "end_time": "2019-11-04T11:37:34.070761Z",
     "start_time": "2019-11-04T11:37:23.700819Z"
    },
    "pycharm": {
     "is_executing": false
    },
    "scrolled": false
   },
   "outputs": [
    {
     "ename": "FileNotFoundError",
     "evalue": "[Errno 2] No such file or directory: '/home/user/Documents/m2/7 projet/MuGen/MuGen/midi/midi_short/'",
     "output_type": "error",
     "traceback": [
      "\u001b[0;31m---------------------------------------------------------------------------\u001b[0m",
      "\u001b[0;31mFileNotFoundError\u001b[0m                         Traceback (most recent call last)",
      "\u001b[0;32m<ipython-input-2-9210c4bfbeeb>\u001b[0m in \u001b[0;36m<module>\u001b[0;34m\u001b[0m\n\u001b[1;32m      3\u001b[0m \u001b[0mfp\u001b[0m \u001b[0;34m=\u001b[0m \u001b[0;34m'/home/user/Documents/m2/7 projet/MuGen/MuGen/midi/midi_short/'\u001b[0m\u001b[0;34m\u001b[0m\u001b[0;34m\u001b[0m\u001b[0m\n\u001b[1;32m      4\u001b[0m \u001b[0mmf\u001b[0m \u001b[0;34m=\u001b[0m \u001b[0mmusic21\u001b[0m\u001b[0;34m.\u001b[0m\u001b[0mmidi\u001b[0m\u001b[0;34m.\u001b[0m\u001b[0mMidiFile\u001b[0m\u001b[0;34m(\u001b[0m\u001b[0;34m)\u001b[0m\u001b[0;34m\u001b[0m\u001b[0;34m\u001b[0m\u001b[0m\n\u001b[0;32m----> 5\u001b[0;31m \u001b[0mmf\u001b[0m\u001b[0;34m.\u001b[0m\u001b[0mopen\u001b[0m\u001b[0;34m(\u001b[0m\u001b[0mstr\u001b[0m\u001b[0;34m(\u001b[0m\u001b[0mfp\u001b[0m\u001b[0;34m)\u001b[0m\u001b[0;34m)\u001b[0m\u001b[0;34m\u001b[0m\u001b[0;34m\u001b[0m\u001b[0m\n\u001b[0m\u001b[1;32m      6\u001b[0m \u001b[0mmf\u001b[0m\u001b[0;34m.\u001b[0m\u001b[0mread\u001b[0m\u001b[0;34m(\u001b[0m\u001b[0;34m)\u001b[0m\u001b[0;34m\u001b[0m\u001b[0;34m\u001b[0m\u001b[0m\n\u001b[1;32m      7\u001b[0m \u001b[0mmf\u001b[0m\u001b[0;34m.\u001b[0m\u001b[0mclose\u001b[0m\u001b[0;34m(\u001b[0m\u001b[0;34m)\u001b[0m\u001b[0;34m\u001b[0m\u001b[0;34m\u001b[0m\u001b[0m\n",
      "\u001b[0;32m~/anaconda3/envs/music/lib/python3.7/site-packages/music21/midi/__init__.py\u001b[0m in \u001b[0;36mopen\u001b[0;34m(self, filename, attrib)\u001b[0m\n\u001b[1;32m   1248\u001b[0m         \u001b[0;32mif\u001b[0m \u001b[0mattrib\u001b[0m \u001b[0;32mnot\u001b[0m \u001b[0;32min\u001b[0m \u001b[0;34m[\u001b[0m\u001b[0;34m'rb'\u001b[0m\u001b[0;34m,\u001b[0m \u001b[0;34m'wb'\u001b[0m\u001b[0;34m]\u001b[0m\u001b[0;34m:\u001b[0m\u001b[0;34m\u001b[0m\u001b[0;34m\u001b[0m\u001b[0m\n\u001b[1;32m   1249\u001b[0m             \u001b[0;32mraise\u001b[0m \u001b[0mMidiException\u001b[0m\u001b[0;34m(\u001b[0m\u001b[0;34m'cannot read or write unless in binary mode, not:'\u001b[0m\u001b[0;34m,\u001b[0m \u001b[0mattrib\u001b[0m\u001b[0;34m)\u001b[0m\u001b[0;34m\u001b[0m\u001b[0;34m\u001b[0m\u001b[0m\n\u001b[0;32m-> 1250\u001b[0;31m         \u001b[0mself\u001b[0m\u001b[0;34m.\u001b[0m\u001b[0mfile\u001b[0m \u001b[0;34m=\u001b[0m \u001b[0mopen\u001b[0m\u001b[0;34m(\u001b[0m\u001b[0mstr\u001b[0m\u001b[0;34m(\u001b[0m\u001b[0mfilename\u001b[0m\u001b[0;34m)\u001b[0m\u001b[0;34m,\u001b[0m \u001b[0mattrib\u001b[0m\u001b[0;34m)\u001b[0m\u001b[0;34m\u001b[0m\u001b[0;34m\u001b[0m\u001b[0m\n\u001b[0m\u001b[1;32m   1251\u001b[0m \u001b[0;34m\u001b[0m\u001b[0m\n\u001b[1;32m   1252\u001b[0m     \u001b[0;32mdef\u001b[0m \u001b[0mopenFileLike\u001b[0m\u001b[0;34m(\u001b[0m\u001b[0mself\u001b[0m\u001b[0;34m,\u001b[0m \u001b[0mfileLike\u001b[0m\u001b[0;34m)\u001b[0m\u001b[0;34m:\u001b[0m\u001b[0;34m\u001b[0m\u001b[0;34m\u001b[0m\u001b[0m\n",
      "\u001b[0;31mFileNotFoundError\u001b[0m: [Errno 2] No such file or directory: '/home/user/Documents/m2/7 projet/MuGen/MuGen/midi/midi_short/'"
     ]
    }
   ],
   "source": [
    "# import music21\n",
    "# \n",
    "# fp = '/home/user/Documents/m2/7 projet/MuGen/MuGen/midi/midi_short/'\n",
    "# mf = music21.midi.MidiFile()\n",
    "# mf.open(str(fp))\n",
    "# mf.read()\n",
    "# mf.close()\n",
    "# len(mf.tracks)\n",
    "# \n",
    "# s = music21.midi.translate.midiFileToStream(mf)\n",
    "# print(s)\n",
    "# \n",
    "# # print(len(s.flat.notesAndRests))\n",
    "# \n",
    "# s.plot('scatter', 'offset', 'pitchClass')\n",
    "# \n",
    "# \n",
    "# # s.show()\n",
    "# s.features()\n",
    "# \n",
    "# from pprint import pprint\n",
    "# \n",
    "# from music21.features import jSymbolic, native\n",
    "# f = list(jSymbolic.featureExtractors) + list(native.featureExtractors)\n",
    "# \n",
    "# for f, v in zip(f,music21.features.allFeaturesAsList(s)):\n",
    "#     print(f\"{f} : {v}\")\n",
    "\n",
    "# https://en.wikipedia.org/wiki/Musical_similarity"
   ]
  },
  {
   "cell_type": "code",
   "execution_count": 4,
   "metadata": {
    "ExecuteTime": {
     "end_time": "2019-11-04T13:48:47.479919Z",
     "start_time": "2019-11-04T13:38:35.760636Z"
    },
    "pycharm": {
     "is_executing": false
    },
    "scrolled": true
   },
   "outputs": [],
   "source": [
    "# import music21\n",
    "# from glob import glob\n",
    "# from tqdm.notebook import tqdm\n",
    "# \n",
    "# data = []\n",
    "# \n",
    "# for fp in tqdm(glob(\"/home/user/Documents/m2/7 projet/MuGen/MuGen/midi/*/*.mid\")[:50]):\n",
    "#     mf = music21.midi.MidiFile()\n",
    "#     mf.open(str(fp))\n",
    "#     mf.read()\n",
    "#     mf.close()\n",
    "# \n",
    "#     s = music21.midi.translate.midiFileToStream(mf)\n",
    "#     try:\n",
    "#         data.append(music21.features.allFeaturesAsList(s))\n",
    "#     except:\n",
    "#         print(fp)\n"
   ]
  },
  {
   "cell_type": "code",
   "execution_count": 5,
   "metadata": {
    "ExecuteTime": {
     "end_time": "2019-11-04T16:38:34.957498Z",
     "start_time": "2019-11-04T16:38:34.913738Z"
    },
    "pycharm": {
     "is_executing": false
    }
   },
   "outputs": [],
   "source": [
    "# d = []\n",
    "# \n",
    "# for a in data:\n",
    "#     a = a[0]\n",
    "#     if len(a[0]) == 1:\n",
    "#         print(\"coucou\")\n",
    "#         d.append(a[0][0])\n",
    "#     else:\n",
    "#         d.append(a[0])\n",
    "#     \n",
    "#     \n",
    "# import pandas as pd\n",
    "# \n",
    "# dfObj = pd.DataFrame(d)\n",
    "# dfObj"
   ]
  },
  {
   "cell_type": "code",
   "execution_count": 5,
   "metadata": {
    "pycharm": {
     "is_executing": false
    },
    "scrolled": true
   },
   "outputs": [],
   "source": []
  },
  {
   "cell_type": "code",
   "execution_count": 6,
   "metadata": {
    "ExecuteTime": {
     "end_time": "2019-11-05T12:58:22.571529Z",
     "start_time": "2019-11-05T12:58:22.496361Z"
    },
    "pycharm": {
     "is_executing": false
    }
   },
   "outputs": [],
   "source": [
    "# su = 0\n",
    "# for i in dfObj[1]:\n",
    "#     su += i[0]\n",
    "# \n",
    "# su / 49"
   ]
  },
  {
   "cell_type": "markdown",
   "metadata": {},
   "source": [
    "https://en.wikipedia.org/wiki/Musical_similarity\n",
    "\n",
    "\n",
    "2 samples t tests\n",
    "\n",
    "MMD\n",
    "\n",
    "features selection sklearn\n",
    "\n",
    "https://fr.wikipedia.org/wiki/Donn%C3%A9e_aberrante\n",
    "\n",
    "outlier detection\n"
   ]
  },
  {
   "cell_type": "code",
   "execution_count": 6,
   "metadata": {
    "pycharm": {
     "is_executing": false
    }
   },
   "outputs": [],
   "source": []
  }
 ],
 "metadata": {
  "kernelspec": {
   "display_name": "Python 3",
   "language": "python",
   "name": "python3"
  },
  "language_info": {
   "codemirror_mode": {
    "name": "ipython",
    "version": 3
   },
   "file_extension": ".py",
   "mimetype": "text/x-python",
   "name": "python",
   "nbconvert_exporter": "python",
   "pygments_lexer": "ipython3",
   "version": "3.7.5"
  },
  "pycharm": {
   "stem_cell": {
    "cell_type": "raw",
    "metadata": {
     "collapsed": false
    },
    "source": []
   }
  },
  "toc": {
   "base_numbering": 1,
   "nav_menu": {},
   "number_sections": true,
   "sideBar": true,
   "skip_h1_title": false,
   "title_cell": "Table of Contents",
   "title_sidebar": "Contents",
   "toc_cell": true,
   "toc_position": {},
   "toc_section_display": true,
   "toc_window_display": false
  },
  "varInspector": {
   "cols": {
    "lenName": 16,
    "lenType": 16,
    "lenVar": 40
   },
   "kernels_config": {
    "python": {
     "delete_cmd_postfix": "",
     "delete_cmd_prefix": "del ",
     "library": "var_list.py",
     "varRefreshCmd": "print(var_dic_list())"
    },
    "r": {
     "delete_cmd_postfix": ") ",
     "delete_cmd_prefix": "rm(",
     "library": "var_list.r",
     "varRefreshCmd": "cat(var_dic_list()) "
    }
   },
   "types_to_exclude": [
    "module",
    "function",
    "builtin_function_or_method",
    "instance",
    "_Feature"
   ],
   "window_display": false
  }
 },
 "nbformat": 4,
 "nbformat_minor": 4
}
